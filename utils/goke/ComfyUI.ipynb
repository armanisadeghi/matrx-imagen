{
 "cells": [
  {
   "cell_type": "markdown",
   "id": "7007a497-c0dc-48b1-8c8f-e15b6209a057",
   "metadata": {},
   "source": [
    "# ComfyUI"
   ]
  },
  {
   "cell_type": "code",
   "execution_count": null,
   "id": "675fa5ca-3556-402c-920f-d4e793363327",
   "metadata": {},
   "outputs": [],
   "source": [
    "from cmf import deps, repo, sd, download_models, download_upscalers, download_controlnet, download_inpaint\n",
    "\n",
    "Args=\"--listen --port 3000 --preview-method auto\"\n",
    "\n",
    "deps();repo();download_models();download_upscalers();download_inpaint();download_controlnet();sd()\n",
    "!python /workspace/ComfyUI/main.py $Args"
   ]
  },
  {
   "cell_type": "code",
   "execution_count": 2,
   "id": "361cb2d4-7545-46c6-8b88-33e5d0107391",
   "metadata": {},
   "outputs": [],
   "source": []
  },
  {
   "cell_type": "code",
   "execution_count": null,
   "id": "901d32db-af34-415a-ba35-31c425a44f87",
   "metadata": {},
   "outputs": [],
   "source": []
  }
 ],
 "metadata": {
  "kernelspec": {
   "display_name": "Python 3 (ipykernel)",
   "language": "python",
   "name": "python3"
  },
  "language_info": {
   "codemirror_mode": {
    "name": "ipython",
    "version": 3
   },
   "file_extension": ".py",
   "mimetype": "text/x-python",
   "name": "python",
   "nbconvert_exporter": "python",
   "pygments_lexer": "ipython3",
   "version": "3.10.12"
  }
 },
 "nbformat": 4,
 "nbformat_minor": 5
}
